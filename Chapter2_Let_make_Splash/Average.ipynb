{
 "cells": [
  {
   "cell_type": "code",
   "execution_count": 23,
   "metadata": {},
   "outputs": [
    {
     "data": {
      "text/plain": [
       "'1:26:58'"
      ]
     },
     "execution_count": 23,
     "metadata": {},
     "output_type": "execute_result"
    }
   ],
   "source": [
    "import statistics\n",
    "FN=\"Darius-13-100m-Fly.txt\"\n",
    "\n",
    "FOLDER = \"swimdata/\"\n",
    "\n",
    "with open(FOLDER+FN) as file:\n",
    "    lines = file.readlines()\n",
    "times = lines[0].strip().split(\",\")\n",
    "converts = []\n",
    "for t in times:\n",
    "    minutes,rest = t.split(\":\")\n",
    "    seconds,hundredths = rest.split(\".\")\n",
    "    converts.append((int(minutes)*60*100)+(int(seconds)*100)+int(hundredths))\n",
    "average = statistics.mean(converts)\n",
    "mins_secs,hundredths=str(round(average/100,2)).split(\".\")\n",
    "mins_secs = int(mins_secs)\n",
    "minutes = mins_secs//60\n",
    "seconds = mins_secs-minutes*60\n",
    "average = str(minutes)+\":\"+str(seconds)+\":\"+hundredths\n",
    "average\n"
   ]
  },
  {
   "cell_type": "code",
   "execution_count": null,
   "metadata": {},
   "outputs": [],
   "source": []
  }
 ],
 "metadata": {
  "kernelspec": {
   "display_name": "Python 3.10.6 64-bit",
   "language": "python",
   "name": "python3"
  },
  "language_info": {
   "codemirror_mode": {
    "name": "ipython",
    "version": 3
   },
   "file_extension": ".py",
   "mimetype": "text/x-python",
   "name": "python",
   "nbconvert_exporter": "python",
   "pygments_lexer": "ipython3",
   "version": "3.10.6"
  },
  "orig_nbformat": 4,
  "vscode": {
   "interpreter": {
    "hash": "b0fa6594d8f4cbf19f97940f81e996739fb7646882a419484c72d19e05852a7e"
   }
  }
 },
 "nbformat": 4,
 "nbformat_minor": 2
}
